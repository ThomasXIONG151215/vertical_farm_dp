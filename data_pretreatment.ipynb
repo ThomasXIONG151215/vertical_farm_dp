{
 "cells": [
  {
   "cell_type": "code",
   "execution_count": 1,
   "metadata": {},
   "outputs": [],
   "source": [
    "import pandas as pd \n",
    "from led_models import modules_control,round_1_led\n",
    "import struct \n",
    "import numpy as np"
   ]
  },
  {
   "cell_type": "code",
   "execution_count": 2,
   "metadata": {},
   "outputs": [],
   "source": [
    "def double_to_float(data):\n",
    "    for i in range(len(data)):\n",
    "        if data[i]>10000000:\n",
    "            packed=struct.pack('>i',int(data[i]))\n",
    "            data[i] = struct.unpack('>f', packed)[0]"
   ]
  },
  {
   "attachments": {},
   "cell_type": "markdown",
   "metadata": {},
   "source": [
    "100 .1.1\n",
    "75 1 1.2\n",
    "50 1.4 1.5\n",
    "25 1.8 2.1\n",
    "10 1.6 1.8"
   ]
  },
  {
   "cell_type": "code",
   "execution_count": 3,
   "metadata": {},
   "outputs": [],
   "source": [
    "#2.1 10\n",
    "#1.1 100\n",
    "\n",
    "#Y = (110 - X)/100 + 1.1"
   ]
  },
  {
   "cell_type": "code",
   "execution_count": 3,
   "metadata": {},
   "outputs": [],
   "source": [
    "def data_pretreatment(df_number):\n",
    "\n",
    "    df = pd.read_csv('dataframe'+str(df_number)+'.csv')\n",
    "    df['平均温度']=(df['1号室内温度']+df['2号室内温度'])/2\n",
    "    df['平均湿度']=(df['1号室内湿度']+df['2号室内湿度'])/2\n",
    "    df['time'] = pd.to_datetime(df['time'])\n",
    "    standard_lights_power, standard_lights_heat = round_1_led()\n",
    "    led_heat = []\n",
    "    for i in range(len(df)):\n",
    "        if df['1号PPFD'][i]<1:\n",
    "            led_heat.append(0)\n",
    "        else:\n",
    "            led_heat.append(standard_lights_heat/1000)\n",
    "    df['灯具负荷'] = led_heat #kW\n",
    "    df['自然负荷'] = (df['户外温度'] - df['平均温度']) * 1.1 * 0.5 * 1.005 * 1.29 #kW #循环风机自然进热#循环风机要一直开所以一直有热量进入\n",
    "    df['新风负荷'] = (110-df['新风机手动开度'])/100 * (df['户外温度'] - df['平均温度']) * 0.5 * 1.005 * 1.29\n",
    "    df['总热渗入量'] = df['灯具负荷']+df['自然负荷']+df['新风负荷']\n",
    "    freq = pd.to_timedelta(np.diff(df.time).min())\n",
    "    freq = 5 * freq\n",
    "    grouper = df['time'].diff().gt(freq).cumsum()\n",
    "    #grouped = [x for _,x in df.groupby(grouper)]\n",
    "    for _,x in df.groupby(grouper):\n",
    "        x.to_csv('arranged_data'+str(df_number)+'/sub_df' + str(_) + '.csv')\n"
   ]
  },
  {
   "cell_type": "code",
   "execution_count": 6,
   "metadata": {},
   "outputs": [
    {
     "data": {
      "text/plain": [
       "(1927, 770.8000000000001)"
      ]
     },
     "execution_count": 6,
     "metadata": {},
     "output_type": "execute_result"
    }
   ],
   "source": [
    "round_1_led()"
   ]
  },
  {
   "cell_type": "code",
   "execution_count": 7,
   "metadata": {},
   "outputs": [],
   "source": [
    "data_pretreatment(1)"
   ]
  },
  {
   "cell_type": "code",
   "execution_count": 8,
   "metadata": {},
   "outputs": [],
   "source": [
    "data_pretreatment(2)"
   ]
  },
  {
   "cell_type": "code",
   "execution_count": 9,
   "metadata": {},
   "outputs": [],
   "source": [
    "data_pretreatment(3)"
   ]
  },
  {
   "cell_type": "code",
   "execution_count": 4,
   "metadata": {},
   "outputs": [],
   "source": [
    "data_pretreatment(4)"
   ]
  },
  {
   "cell_type": "code",
   "execution_count": null,
   "metadata": {},
   "outputs": [],
   "source": []
  }
 ],
 "metadata": {
  "kernelspec": {
   "display_name": "Python 3",
   "language": "python",
   "name": "python3"
  },
  "language_info": {
   "codemirror_mode": {
    "name": "ipython",
    "version": 3
   },
   "file_extension": ".py",
   "mimetype": "text/x-python",
   "name": "python",
   "nbconvert_exporter": "python",
   "pygments_lexer": "ipython3",
   "version": "3.8.3"
  },
  "orig_nbformat": 4
 },
 "nbformat": 4,
 "nbformat_minor": 2
}
