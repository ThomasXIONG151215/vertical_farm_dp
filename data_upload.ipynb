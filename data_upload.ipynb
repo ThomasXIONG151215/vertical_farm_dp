{
 "cells": [
  {
   "cell_type": "code",
   "execution_count": 1,
   "metadata": {},
   "outputs": [],
   "source": [
    "import pandas as pd \n",
    "import numpy as np \n",
    "from scipy.optimize import curve_fit\n",
    "from sklearn.metrics import r2_score\n",
    "import plotly.express as px\n",
    "import sys "
   ]
  },
  {
   "cell_type": "code",
   "execution_count": 19,
   "metadata": {},
   "outputs": [
    {
     "ename": "TypeError",
     "evalue": "cannot concatenate object of type '<class 'str'>'; only Series and DataFrame objs are valid",
     "output_type": "error",
     "traceback": [
      "\u001b[1;31m---------------------------------------------------------------------------\u001b[0m",
      "\u001b[1;31mTypeError\u001b[0m                                 Traceback (most recent call last)",
      "Cell \u001b[1;32mIn[19], line 44\u001b[0m\n\u001b[0;32m     41\u001b[0m \u001b[39mfor\u001b[39;00m i \u001b[39min\u001b[39;00m \u001b[39mrange\u001b[39m(\u001b[39mlen\u001b[39m(csv_files)):\n\u001b[0;32m     42\u001b[0m     dataframes4[\u001b[39m'\u001b[39m\u001b[39mdf\u001b[39m\u001b[39m'\u001b[39m\u001b[39m+\u001b[39m\u001b[39mstr\u001b[39m(i)] \u001b[39m=\u001b[39m csv_files[i]\n\u001b[1;32m---> 44\u001b[0m combine_df \u001b[39m=\u001b[39m pd\u001b[39m.\u001b[39;49mconcat([dataframes4[key] \u001b[39mfor\u001b[39;49;00m key \u001b[39min\u001b[39;49;00m dataframes4\u001b[39m.\u001b[39;49mkeys()])\n\u001b[0;32m     45\u001b[0m \u001b[39m#for i in range(11,33):\u001b[39;00m\n\u001b[0;32m     46\u001b[0m \u001b[39m#    combine_df=pd.concat([combine_df,dataframes4['df'+str(i)]],axis=1)\u001b[39;00m\n\u001b[0;32m     48\u001b[0m merged_df \u001b[39m=\u001b[39m combine_df\n",
      "File \u001b[1;32mc:\\Users\\Administrator\\AppData\\Local\\Programs\\Python\\Python311\\Lib\\site-packages\\pandas\\core\\reshape\\concat.py:372\u001b[0m, in \u001b[0;36mconcat\u001b[1;34m(objs, axis, join, ignore_index, keys, levels, names, verify_integrity, sort, copy)\u001b[0m\n\u001b[0;32m    369\u001b[0m \u001b[39melif\u001b[39;00m copy \u001b[39mand\u001b[39;00m using_copy_on_write():\n\u001b[0;32m    370\u001b[0m     copy \u001b[39m=\u001b[39m \u001b[39mFalse\u001b[39;00m\n\u001b[1;32m--> 372\u001b[0m op \u001b[39m=\u001b[39m _Concatenator(\n\u001b[0;32m    373\u001b[0m     objs,\n\u001b[0;32m    374\u001b[0m     axis\u001b[39m=\u001b[39;49maxis,\n\u001b[0;32m    375\u001b[0m     ignore_index\u001b[39m=\u001b[39;49mignore_index,\n\u001b[0;32m    376\u001b[0m     join\u001b[39m=\u001b[39;49mjoin,\n\u001b[0;32m    377\u001b[0m     keys\u001b[39m=\u001b[39;49mkeys,\n\u001b[0;32m    378\u001b[0m     levels\u001b[39m=\u001b[39;49mlevels,\n\u001b[0;32m    379\u001b[0m     names\u001b[39m=\u001b[39;49mnames,\n\u001b[0;32m    380\u001b[0m     verify_integrity\u001b[39m=\u001b[39;49mverify_integrity,\n\u001b[0;32m    381\u001b[0m     copy\u001b[39m=\u001b[39;49mcopy,\n\u001b[0;32m    382\u001b[0m     sort\u001b[39m=\u001b[39;49msort,\n\u001b[0;32m    383\u001b[0m )\n\u001b[0;32m    385\u001b[0m \u001b[39mreturn\u001b[39;00m op\u001b[39m.\u001b[39mget_result()\n",
      "File \u001b[1;32mc:\\Users\\Administrator\\AppData\\Local\\Programs\\Python\\Python311\\Lib\\site-packages\\pandas\\core\\reshape\\concat.py:462\u001b[0m, in \u001b[0;36m_Concatenator.__init__\u001b[1;34m(self, objs, axis, join, keys, levels, names, ignore_index, verify_integrity, copy, sort)\u001b[0m\n\u001b[0;32m    457\u001b[0m     \u001b[39mif\u001b[39;00m \u001b[39mnot\u001b[39;00m \u001b[39misinstance\u001b[39m(obj, (ABCSeries, ABCDataFrame)):\n\u001b[0;32m    458\u001b[0m         msg \u001b[39m=\u001b[39m (\n\u001b[0;32m    459\u001b[0m             \u001b[39mf\u001b[39m\u001b[39m\"\u001b[39m\u001b[39mcannot concatenate object of type \u001b[39m\u001b[39m'\u001b[39m\u001b[39m{\u001b[39;00m\u001b[39mtype\u001b[39m(obj)\u001b[39m}\u001b[39;00m\u001b[39m'\u001b[39m\u001b[39m; \u001b[39m\u001b[39m\"\u001b[39m\n\u001b[0;32m    460\u001b[0m             \u001b[39m\"\u001b[39m\u001b[39monly Series and DataFrame objs are valid\u001b[39m\u001b[39m\"\u001b[39m\n\u001b[0;32m    461\u001b[0m         )\n\u001b[1;32m--> 462\u001b[0m         \u001b[39mraise\u001b[39;00m \u001b[39mTypeError\u001b[39;00m(msg)\n\u001b[0;32m    464\u001b[0m     ndims\u001b[39m.\u001b[39madd(obj\u001b[39m.\u001b[39mndim)\n\u001b[0;32m    466\u001b[0m \u001b[39m# get the sample\u001b[39;00m\n\u001b[0;32m    467\u001b[0m \u001b[39m# want the highest ndim that we have, and must be non-empty\u001b[39;00m\n\u001b[0;32m    468\u001b[0m \u001b[39m# unless all objs are empty\u001b[39;00m\n",
      "\u001b[1;31mTypeError\u001b[0m: cannot concatenate object of type '<class 'str'>'; only Series and DataFrame objs are valid"
     ]
    }
   ],
   "source": [
    "from data_upload import data_pretreatment\n",
    "df = pd.read_csv(\"G:\\生生不息\\实验数据\\BaiduSyncdisk\\dataframe4.csv\")\n",
    "data_pretreatment(4,df)\n",
    "\n",
    "plants = pd.read_csv(\"G:\\生生不息\\实验数据\\BaiduSyncdisk\\Plant_data_halfhour.csv\")\n",
    "whole_time=[pd.to_datetime(day+' '+hour) for day,hour in zip(plants['Date'],plants['Time'])]\n",
    "plants['time']=whole_time\n",
    "plants['pixel diff']=plants['Area per plant'].diff(1)\n",
    "plants=plants.set_index('time')\n",
    "plants['time'] = plants.index\n",
    "#plants = plants[:-1]\n",
    "re_arranged_plants = pd.DataFrame({})\n",
    "df_collection = []\n",
    "\n",
    "for i in range(1,10):\n",
    "    new_df = pd.DataFrame({})\n",
    "    new = []\n",
    "    times = []\n",
    "    #print(i)\n",
    "    for j in range(len(plants)):\n",
    "        if plants['No.'][j] == i:\n",
    "            new.append(plants['Area per plant'][j])\n",
    "            times.append(plants['time'][j])\n",
    "    new_df['plant '+str(i)] = new\n",
    "    new_df['plant '+str(i)+' diff'] = new_df['plant '+str(i)].diff(1)\n",
    "    new_df['time'] = times \n",
    "    new_df['time'] = pd.to_datetime(new_df['time'])\n",
    "    #new_df = new_df.set_index('time')\n",
    "    #new_df.index = pd.to_datetime(new_df.index)\n",
    "    #ew_df = new_df.resample('30m').mean()\n",
    "    try:\n",
    "        #new_df.resample('1H').mean()\n",
    "        df_collection.append(new_df)\n",
    "    except:\n",
    "        pass\n",
    "from glob import glob\n",
    "dataframes4 = {}\n",
    "csv_path = \"arranged_data4/*.csv\"\n",
    "csv_files = glob(csv_path)\n",
    "\n",
    "for i in range(len(csv_files)):\n",
    "    dataframes4['df'+str(i)] = pd.read_csv(csv_files[i])\n",
    "\n",
    "combine_df = pd.concat([dataframes4[key] for key in dataframes4.keys()])\n",
    "#for i in range(11,33):\n",
    "#    combine_df=pd.concat([combine_df,dataframes4['df'+str(i)]],axis=1)\n",
    "\n",
    "merged_df = combine_df\n",
    "merged_df['time'] = pd.to_datetime(merged_df['time'])\n",
    "for i in range(len(df_collection)):\n",
    "    print(i)\n",
    "    df_collection[i]['time'] = pd.to_datetime(df_collection[i]['time'])\n",
    "    merged_df = pd.merge_asof(merged_df,df_collection[i],on='time',direction='nearest')"
   ]
  },
  {
   "cell_type": "code",
   "execution_count": 20,
   "metadata": {},
   "outputs": [
    {
     "data": {
      "text/plain": [
       "'arranged_data4\\\\sub_df0.csv'"
      ]
     },
     "execution_count": 20,
     "metadata": {},
     "output_type": "execute_result"
    }
   ],
   "source": [
    "csv_files[0]"
   ]
  },
  {
   "cell_type": "code",
   "execution_count": null,
   "metadata": {},
   "outputs": [],
   "source": []
  }
 ],
 "metadata": {
  "kernelspec": {
   "display_name": "Python 3",
   "language": "python",
   "name": "python3"
  },
  "language_info": {
   "codemirror_mode": {
    "name": "ipython",
    "version": 3
   },
   "file_extension": ".py",
   "mimetype": "text/x-python",
   "name": "python",
   "nbconvert_exporter": "python",
   "pygments_lexer": "ipython3",
   "version": "3.11.3"
  },
  "orig_nbformat": 4
 },
 "nbformat": 4,
 "nbformat_minor": 2
}
